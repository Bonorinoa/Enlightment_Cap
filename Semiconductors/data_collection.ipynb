{
 "cells": [
  {
   "attachments": {},
   "cell_type": "markdown",
   "metadata": {},
   "source": [
    "# Data Gathering\n",
    "\n",
    "### Mineral Raw Materials\n",
    "The mineral materials included in World Mining Data are arranged in five groups:\n",
    "\n",
    "**Iron and Ferro-Alloy Metals**\n",
    "\n",
    "Non-Ferrous Metals\n",
    "Precious Metals\n",
    "Industrial Minerals\n",
    "Mineral Fuels\n",
    "Iron and Ferro-Alloy Metals:\n",
    "Iron, Chromium, Cobalt, Manganese, Molybdenum, Nickel, Niobium, Tantalum, Titanium, Tungsten, Vanadium\n",
    "\n",
    "**Non-Ferrous Metals**\n",
    "\n",
    "Aluminium, Antimony, Arsenic, Bauxite, Beryllium, Bismuth, Cadmium, Copper, Gallium, Germanium, Indium, Lead, Lithium, Mercury, Rare Earth Minerals, Rhenium, Selenium, Tellurium, Tin, Zinc\n",
    "\n",
    "**Precious Metals**\n",
    "\n",
    "Gold, Platinum-Group Metals (Palladium, Platinum, Rhodium), Silver\n",
    "\n",
    "**Industrial Minerals**\n",
    "\n",
    "Asbestos, Baryte, Bentonite, Boron Minerals, Diamond (Gem/Industrial), Diatomite, Feldspar, Fluorspar, Graphite, Gypsum and Anhydrite, Kaolin (China-Clay), Magnesite, Perlite, Phosphate Rock (incl. Guano), Potash, Salt, Sulfur, Talc (incl. Steatite and Pyrophyllite), Vermiculite, Zircon\n",
    "\n",
    "**Mineral Fuels**\n",
    "\n",
    "Steam Coal (incl. Anthracite and Sub-Bituminous Coal), Coking Coal, Lignite, Natural Gas, Petroleum (incl. Natural Gas Liquids), Oil Sands, Oil Shales, Uranium"
   ]
  },
  {
   "cell_type": "code",
   "execution_count": 2,
   "metadata": {},
   "outputs": [
    {
     "ename": "ModuleNotFoundError",
     "evalue": "No module named 'fredapi'",
     "output_type": "error",
     "traceback": [
      "\u001b[1;31m---------------------------------------------------------------------------\u001b[0m",
      "\u001b[1;31mModuleNotFoundError\u001b[0m                       Traceback (most recent call last)",
      "Cell \u001b[1;32mIn[2], line 4\u001b[0m\n\u001b[0;32m      2\u001b[0m \u001b[39mimport\u001b[39;00m \u001b[39mnumpy\u001b[39;00m \u001b[39mas\u001b[39;00m \u001b[39mnp\u001b[39;00m\n\u001b[0;32m      3\u001b[0m \u001b[39mimport\u001b[39;00m \u001b[39mrequests\u001b[39;00m\n\u001b[1;32m----> 4\u001b[0m \u001b[39mfrom\u001b[39;00m \u001b[39mfredapi\u001b[39;00m \u001b[39mimport\u001b[39;00m Fred\n",
      "\u001b[1;31mModuleNotFoundError\u001b[0m: No module named 'fredapi'"
     ]
    }
   ],
   "source": [
    "import pandas as pd\n",
    "import numpy as np\n",
    "import requests\n",
    "from fredapi import Fred"
   ]
  },
  {
   "cell_type": "code",
   "execution_count": null,
   "metadata": {},
   "outputs": [],
   "source": [
    "fred_key = \"70d88dd06e34e098d72fe9ef6da247a1\"\n",
    "\n",
    "# Initialize the FRED API with your API key\n",
    "fred = Fred(api_key=fred_key)\n",
    "\n",
    "# Retrieve the data on the semiconductor market\n",
    "semiconductor_data = fred.get_series('S4ASEM')"
   ]
  }
 ],
 "metadata": {
  "kernelspec": {
   "display_name": "Python 3",
   "language": "python",
   "name": "python3"
  },
  "language_info": {
   "codemirror_mode": {
    "name": "ipython",
    "version": 3
   },
   "file_extension": ".py",
   "mimetype": "text/x-python",
   "name": "python",
   "nbconvert_exporter": "python",
   "pygments_lexer": "ipython3",
   "version": "3.11.0"
  },
  "orig_nbformat": 4,
  "vscode": {
   "interpreter": {
    "hash": "ee6a9f6861ea330318c02b3a6d9efbd1abd8633292b4b7d05428423d063c7051"
   }
  }
 },
 "nbformat": 4,
 "nbformat_minor": 2
}
